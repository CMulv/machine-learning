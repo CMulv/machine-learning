{
 "cells": [
  {
   "cell_type": "markdown",
   "id": "0c4d6f83-342d-450a-91c6-397acdad7411",
   "metadata": {},
   "source": [
    "# This is a Markdown Cell!\n",
    "It can contains documentation and "
   ]
  },
  {
   "cell_type": "code",
   "execution_count": 3,
   "id": "041dcba3-8efd-4b2f-83bf-55cab192e744",
   "metadata": {},
   "outputs": [
    {
     "name": "stdout",
     "output_type": "stream",
     "text": [
      "This is a code cell!\n"
     ]
    }
   ],
   "source": [
    "# This is a code cell!\n",
    "print(\"This is a code cell!\");"
   ]
  },
  {
   "cell_type": "markdown",
   "id": "c84571a3-b7c0-44a1-9314-a0dad1b79407",
   "metadata": {},
   "source": [
    "It is a type of cell where you can write Python code to be executed."
   ]
  },
  {
   "cell_type": "code",
   "execution_count": 4,
   "id": "d8bfdd92-9a99-4042-a917-af9120635aa9",
   "metadata": {},
   "outputs": [
    {
     "name": "stdout",
     "output_type": "stream",
     "text": [
      "f strings allow you to embed variables right in the strings!\n"
     ]
    }
   ],
   "source": [
    "# Use f strings to embed variables!\n",
    "variable = \"right in the strings!\";\n",
    "print(f\"f strings allow you to embed variables {variable}\");"
   ]
  },
  {
   "cell_type": "code",
   "execution_count": null,
   "id": "68cc7cdb-4420-4c73-a3fc-e9c10f61a031",
   "metadata": {},
   "outputs": [],
   "source": []
  }
 ],
 "metadata": {
  "kernelspec": {
   "display_name": "Python 3 (ipykernel)",
   "language": "python",
   "name": "python3"
  },
  "language_info": {
   "codemirror_mode": {
    "name": "ipython",
    "version": 3
   },
   "file_extension": ".py",
   "mimetype": "text/x-python",
   "name": "python",
   "nbconvert_exporter": "python",
   "pygments_lexer": "ipython3",
   "version": "3.13.5"
  }
 },
 "nbformat": 4,
 "nbformat_minor": 5
}
